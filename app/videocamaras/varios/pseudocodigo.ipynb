{
 "cells": [
  {
   "cell_type": "code",
   "execution_count": null,
   "metadata": {},
   "outputs": [],
   "source": [
    "FUNCION cargarDatosDesdeArchivo()\n",
    "    tipo = $_FILES['dataCamara']['type']\n",
    "    tamanio = $_FILES['dataCamara']['size']\n",
    "    archivotmp = $_FILES['dataCamara']['tmp_name']\n",
    "    lineas = leerArchivo(archivotmp)\n",
    "    i = 0\n",
    "\n",
    "    PARA cada linea EN lineas HACER\n",
    "        cantidad_registros = contar(lineas)\n",
    "        cantidad_regist_agregados = cantidad_registros - 1\n",
    "\n",
    "        SI i != 0 ENTONCES\n",
    "            datos = dividir(linea, \";\")\n",
    "\n",
    "            procedencia = SI datos[0] NO ES VACIO ENTONCES datos[0] SINO ''\n",
    "            codEquipoSap = SI datos[1] NO ES VACIO ENTONCES datos[1] SINO ''\n",
    "            codActivoSap = SI datos[2] NO ES VACIO ENTONCES datos[2] SINO ''\n",
    "            nroSerie = SI datos[3] NO ES VACIO ENTONCES datos[3] SINO ''\n",
    "            marca = SI datos[4] NO ES VACIO ENTONCES datos[4] SINO ''\n",
    "            modelo = SI datos[5] NO ES VACIO ENTONCES datos[5] SINO ''\n",
    "\n",
    "            // Validar existencia de codEquipoSap\n",
    "            SI codEquipoSap NO ES VACIO ENTONCES\n",
    "                consultaDuplicidad = \"SELECT VC_COD_EQUIPO_SAP FROM VIDEOCAMARA WHERE VC_COD_EQUIPO_SAP='\" + codEquipoSap + \"'\"\n",
    "                ca_dupli = ejecutarConsulta(consultaDuplicidad)\n",
    "                cant_duplicidad = contarFilas(ca_dupli)\n",
    "            FIN SI\n",
    "\n",
    "\n",
    "            // No existen registros duplicados\n",
    "            SI cant_duplicidad == 0 ENTONCES\n",
    "                insertarData = \"INSERT INTO VIDEOCAMARA(MVC_COD, MODVC_CODIGO, PREC_CODIGO, VC_COD_ACTIVO_SAP, VC_COD_EQUIPO_SAP, VC_NRO_SERIE) VALUES('\" + marca + \"', '\" + modelo + \"', '\" + procedencia + \"', '\" + codActivoSap + \"', '\" + codEquipoSap + \"', '\" + nroSerie + \"')\"\n",
    "                ejecutarConsulta(insertarData)\n",
    "            SINO\n",
    "                // Actualizar registros existentes\n",
    "                updateData = \"UPDATE VIDEOCAMARA SET MVC_COD='\" + marca + \"', MODVC_CODIGO='\" + modelo + \"', PREC_CODIGO='\" + procedencia + \"', VC_COD_ACTIVO_SAP='\" + codActivoSap + \"', VC_COD_EQUIPO_SAP='\" + codEquipoSap + \"', VC_NRO_SERIE='\" + nroSerie + \"' WHERE VC_COD_EQUIPO_SAP='\" + codEquipoSap + \"'\"\n",
    "                ejecutarConsulta(updateData)\n",
    "            FIN SI\n",
    "        FIN SI\n",
    "\n",
    "        i = i + 1\n",
    "    FIN PARA\n",
    "FIN FUNCION\n",
    "\n",
    "\n"
   ]
  }
 ],
 "metadata": {
  "language_info": {
   "name": "python"
  }
 },
 "nbformat": 4,
 "nbformat_minor": 2
}
